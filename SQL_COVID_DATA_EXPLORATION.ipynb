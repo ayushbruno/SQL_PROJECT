{
  "nbformat": 4,
  "nbformat_minor": 0,
  "metadata": {
    "colab": {
      "provenance": []
    },
    "kernelspec": {
      "name": "python3",
      "display_name": "Python 3"
    },
    "language_info": {
      "name": "python"
    }
  },
  "cells": [
    {
      "cell_type": "code",
      "execution_count": 2,
      "metadata": {
        "id": "UMULDG2OGokZ",
        "colab": {
          "base_uri": "https://localhost:8080/"
        },
        "outputId": "8bc5f4fc-793d-487b-e414-0aefa26c6e6a"
      },
      "outputs": [
        {
          "output_type": "stream",
          "name": "stdout",
          "text": [
            "Collecting pyxlsb\n",
            "  Downloading pyxlsb-1.0.10-py2.py3-none-any.whl (23 kB)\n",
            "Installing collected packages: pyxlsb\n",
            "Successfully installed pyxlsb-1.0.10\n"
          ]
        }
      ],
      "source": [
        "!pip install pyxlsb"
      ]
    },
    {
      "cell_type": "code",
      "source": [
        "!pip install openpyxl"
      ],
      "metadata": {
        "colab": {
          "base_uri": "https://localhost:8080/"
        },
        "id": "slfin4LBIQxo",
        "outputId": "ae3d67e1-be62-41c3-c750-73ab17e4bc24"
      },
      "execution_count": 3,
      "outputs": [
        {
          "output_type": "stream",
          "name": "stdout",
          "text": [
            "Requirement already satisfied: openpyxl in /usr/local/lib/python3.10/dist-packages (3.1.2)\n",
            "Requirement already satisfied: et-xmlfile in /usr/local/lib/python3.10/dist-packages (from openpyxl) (1.1.0)\n"
          ]
        }
      ]
    },
    {
      "cell_type": "code",
      "source": [
        "!pip install pyspark"
      ],
      "metadata": {
        "colab": {
          "base_uri": "https://localhost:8080/"
        },
        "id": "Cvp2H_YPIV0T",
        "outputId": "eeecc55f-b15f-457c-9d3e-f8b5acff3db5"
      },
      "execution_count": 4,
      "outputs": [
        {
          "output_type": "stream",
          "name": "stdout",
          "text": [
            "Collecting pyspark\n",
            "  Downloading pyspark-3.5.1.tar.gz (317.0 MB)\n",
            "\u001b[2K     \u001b[90m━━━━━━━━━━━━━━━━━━━━━━━━━━━━━━━━━━━━━━━━\u001b[0m \u001b[32m317.0/317.0 MB\u001b[0m \u001b[31m2.4 MB/s\u001b[0m eta \u001b[36m0:00:00\u001b[0m\n",
            "\u001b[?25h  Preparing metadata (setup.py) ... \u001b[?25l\u001b[?25hdone\n",
            "Requirement already satisfied: py4j==0.10.9.7 in /usr/local/lib/python3.10/dist-packages (from pyspark) (0.10.9.7)\n",
            "Building wheels for collected packages: pyspark\n",
            "  Building wheel for pyspark (setup.py) ... \u001b[?25l\u001b[?25hdone\n",
            "  Created wheel for pyspark: filename=pyspark-3.5.1-py2.py3-none-any.whl size=317488491 sha256=f438d202c155a4ac88ceda1b1d7f68935a28bdd7cbf62bd5fe14ba882ed7866f\n",
            "  Stored in directory: /root/.cache/pip/wheels/80/1d/60/2c256ed38dddce2fdd93be545214a63e02fbd8d74fb0b7f3a6\n",
            "Successfully built pyspark\n",
            "Installing collected packages: pyspark\n",
            "Successfully installed pyspark-3.5.1\n"
          ]
        }
      ]
    },
    {
      "cell_type": "code",
      "source": [
        "from IPython.display import display"
      ],
      "metadata": {
        "id": "s7Ww76n9IZY1"
      },
      "execution_count": 5,
      "outputs": []
    },
    {
      "cell_type": "code",
      "source": [
        "import pyspark\n",
        "from pyspark.sql import SparkSession\n",
        "spark = SparkSession.builder.appName('First_Code').config(\"spark.sql.catalogImplementation\", \"hive\").enableHiveSupport().getOrCreate()\n",
        "Data = spark.read.csv(\"/content/drive/MyDrive/CovidDeaths.csv\",header = True, inferSchema = True)\n",
        "Data.createOrReplaceTempView('Data')\n",
        "spark.sql(\"SELECT * FROM DATA\").show()"
      ],
      "metadata": {
        "colab": {
          "base_uri": "https://localhost:8080/"
        },
        "id": "wsOUCnHIIwMh",
        "outputId": "09bae296-c304-4ec0-e861-c8843b64a716"
      },
      "execution_count": 6,
      "outputs": [
        {
          "output_type": "stream",
          "name": "stdout",
          "text": [
            "+--------+---------+-----------+----------+----------+-----------+---------+------------------+------------+----------+-------------------+-----------------------+---------------------+------------------------------+------------------------+----------------------+-------------------------------+-----------------+------------+------------------------+-------------+-------------------------+---------------------+---------------------------------+----------------------+----------------------------------+----+----+----+----+----+----+----+----+----+----+----+----+----+----+----+----+----+----+----+----+------------------+----------+-------------+-------------+--------------+---------------+---------------------+-------------------+--------------+------------+----------------------+--------------------------+---------------+-----------------------+\n",
            "|iso_code|continent|   location|      date|population|total_cases|new_cases|new_cases_smoothed|total_deaths|new_deaths|new_deaths_smoothed|total_cases_per_million|new_cases_per_million|new_cases_smoothed_per_million|total_deaths_per_million|new_deaths_per_million|new_deaths_smoothed_per_million|reproduction_rate|icu_patients|icu_patients_per_million|hosp_patients|hosp_patients_per_million|weekly_icu_admissions|weekly_icu_admissions_per_million|weekly_hosp_admissions|weekly_hosp_admissions_per_million|_c26|_c27|_c28|_c29|_c30|_c31|_c32|_c33|_c34|_c35|_c36|_c37|_c38|_c39|_c40|_c41|_c42|_c43|_c44|_c45|population_density|median_age|aged_65_older|aged_70_older|gdp_per_capita|extreme_poverty|cardiovasc_death_rate|diabetes_prevalence|female_smokers|male_smokers|handwashing_facilities|hospital_beds_per_thousand|life_expectancy|human_development_index|\n",
            "+--------+---------+-----------+----------+----------+-----------+---------+------------------+------------+----------+-------------------+-----------------------+---------------------+------------------------------+------------------------+----------------------+-------------------------------+-----------------+------------+------------------------+-------------+-------------------------+---------------------+---------------------------------+----------------------+----------------------------------+----+----+----+----+----+----+----+----+----+----+----+----+----+----+----+----+----+----+----+----+------------------+----------+-------------+-------------+--------------+---------------+---------------------+-------------------+--------------+------------+----------------------+--------------------------+---------------+-----------------------+\n",
            "|     AFG|     Asia|Afghanistan|24-02-2020|  38928341|          1|        1|              NULL|        NULL|      NULL|               NULL|                  0.026|                0.026|                          NULL|                    NULL|                  NULL|                           NULL|             NULL|        NULL|                    NULL|         NULL|                     NULL|                 NULL|                             NULL|                  NULL|                              NULL|NULL|NULL|NULL|NULL|NULL|NULL|NULL|NULL|NULL|NULL|NULL|NULL|NULL|NULL|NULL|NULL|NULL|NULL|NULL|NULL|            54.422|      18.6|        2.581|        1.337|      1803.987|           NULL|              597.029|               9.59|          NULL|        NULL|                37.746|                       0.5|          64.83|                  0.511|\n",
            "|     AFG|     Asia|Afghanistan|25-02-2020|  38928341|          1|        0|              NULL|        NULL|      NULL|               NULL|                  0.026|                  0.0|                          NULL|                    NULL|                  NULL|                           NULL|             NULL|        NULL|                    NULL|         NULL|                     NULL|                 NULL|                             NULL|                  NULL|                              NULL|NULL|NULL|NULL|NULL|NULL|NULL|NULL|NULL|NULL|NULL|NULL|NULL|NULL|NULL|NULL|NULL|NULL|NULL|NULL|NULL|            54.422|      18.6|        2.581|        1.337|      1803.987|           NULL|              597.029|               9.59|          NULL|        NULL|                37.746|                       0.5|          64.83|                  0.511|\n",
            "|     AFG|     Asia|Afghanistan|26-02-2020|  38928341|          1|        0|              NULL|        NULL|      NULL|               NULL|                  0.026|                  0.0|                          NULL|                    NULL|                  NULL|                           NULL|             NULL|        NULL|                    NULL|         NULL|                     NULL|                 NULL|                             NULL|                  NULL|                              NULL|NULL|NULL|NULL|NULL|NULL|NULL|NULL|NULL|NULL|NULL|NULL|NULL|NULL|NULL|NULL|NULL|NULL|NULL|NULL|NULL|            54.422|      18.6|        2.581|        1.337|      1803.987|           NULL|              597.029|               9.59|          NULL|        NULL|                37.746|                       0.5|          64.83|                  0.511|\n",
            "|     AFG|     Asia|Afghanistan|27-02-2020|  38928341|          1|        0|              NULL|        NULL|      NULL|               NULL|                  0.026|                  0.0|                          NULL|                    NULL|                  NULL|                           NULL|             NULL|        NULL|                    NULL|         NULL|                     NULL|                 NULL|                             NULL|                  NULL|                              NULL|NULL|NULL|NULL|NULL|NULL|NULL|NULL|NULL|NULL|NULL|NULL|NULL|NULL|NULL|NULL|NULL|NULL|NULL|NULL|NULL|            54.422|      18.6|        2.581|        1.337|      1803.987|           NULL|              597.029|               9.59|          NULL|        NULL|                37.746|                       0.5|          64.83|                  0.511|\n",
            "|     AFG|     Asia|Afghanistan|28-02-2020|  38928341|          1|        0|              NULL|        NULL|      NULL|               NULL|                  0.026|                  0.0|                          NULL|                    NULL|                  NULL|                           NULL|             NULL|        NULL|                    NULL|         NULL|                     NULL|                 NULL|                             NULL|                  NULL|                              NULL|NULL|NULL|NULL|NULL|NULL|NULL|NULL|NULL|NULL|NULL|NULL|NULL|NULL|NULL|NULL|NULL|NULL|NULL|NULL|NULL|            54.422|      18.6|        2.581|        1.337|      1803.987|           NULL|              597.029|               9.59|          NULL|        NULL|                37.746|                       0.5|          64.83|                  0.511|\n",
            "|     AFG|     Asia|Afghanistan|29-02-2020|  38928341|          1|        0|             0.143|        NULL|      NULL|                0.0|                  0.026|                  0.0|                         0.004|                    NULL|                  NULL|                            0.0|             NULL|        NULL|                    NULL|         NULL|                     NULL|                 NULL|                             NULL|                  NULL|                              NULL|NULL|NULL|NULL|NULL|NULL|NULL|NULL|NULL|NULL|NULL|NULL|NULL|NULL|NULL|NULL|NULL|NULL|NULL|NULL|NULL|            54.422|      18.6|        2.581|        1.337|      1803.987|           NULL|              597.029|               9.59|          NULL|        NULL|                37.746|                       0.5|          64.83|                  0.511|\n",
            "|     AFG|     Asia|Afghanistan|01-03-2020|  38928341|          1|        0|             0.143|        NULL|      NULL|                0.0|                  0.026|                  0.0|                         0.004|                    NULL|                  NULL|                            0.0|             NULL|        NULL|                    NULL|         NULL|                     NULL|                 NULL|                             NULL|                  NULL|                              NULL|NULL|NULL|NULL|NULL|NULL|NULL|NULL|NULL|NULL|NULL|NULL|NULL|NULL|NULL|NULL|NULL|NULL|NULL|NULL|NULL|            54.422|      18.6|        2.581|        1.337|      1803.987|           NULL|              597.029|               9.59|          NULL|        NULL|                37.746|                       0.5|          64.83|                  0.511|\n",
            "|     AFG|     Asia|Afghanistan|02-03-2020|  38928341|          1|        0|               0.0|        NULL|      NULL|                0.0|                  0.026|                  0.0|                           0.0|                    NULL|                  NULL|                            0.0|             NULL|        NULL|                    NULL|         NULL|                     NULL|                 NULL|                             NULL|                  NULL|                              NULL|NULL|NULL|NULL|NULL|NULL|NULL|NULL|NULL|NULL|NULL|NULL|NULL|NULL|NULL|NULL|NULL|NULL|NULL|NULL|NULL|            54.422|      18.6|        2.581|        1.337|      1803.987|           NULL|              597.029|               9.59|          NULL|        NULL|                37.746|                       0.5|          64.83|                  0.511|\n",
            "|     AFG|     Asia|Afghanistan|03-03-2020|  38928341|          2|        1|             0.143|        NULL|      NULL|                0.0|                  0.051|                0.026|                         0.004|                    NULL|                  NULL|                            0.0|             NULL|        NULL|                    NULL|         NULL|                     NULL|                 NULL|                             NULL|                  NULL|                              NULL|NULL|NULL|NULL|NULL|NULL|NULL|NULL|NULL|NULL|NULL|NULL|NULL|NULL|NULL|NULL|NULL|NULL|NULL|NULL|NULL|            54.422|      18.6|        2.581|        1.337|      1803.987|           NULL|              597.029|               9.59|          NULL|        NULL|                37.746|                       0.5|          64.83|                  0.511|\n",
            "|     AFG|     Asia|Afghanistan|04-03-2020|  38928341|          4|        2|             0.429|        NULL|      NULL|                0.0|                  0.103|                0.051|                         0.011|                    NULL|                  NULL|                            0.0|             NULL|        NULL|                    NULL|         NULL|                     NULL|                 NULL|                             NULL|                  NULL|                              NULL|NULL|NULL|NULL|NULL|NULL|NULL|NULL|NULL|NULL|NULL|NULL|NULL|NULL|NULL|NULL|NULL|NULL|NULL|NULL|NULL|            54.422|      18.6|        2.581|        1.337|      1803.987|           NULL|              597.029|               9.59|          NULL|        NULL|                37.746|                       0.5|          64.83|                  0.511|\n",
            "|     AFG|     Asia|Afghanistan|05-03-2020|  38928341|          4|        0|             0.429|        NULL|      NULL|                0.0|                  0.103|                  0.0|                         0.011|                    NULL|                  NULL|                            0.0|             NULL|        NULL|                    NULL|         NULL|                     NULL|                 NULL|                             NULL|                  NULL|                              NULL|NULL|NULL|NULL|NULL|NULL|NULL|NULL|NULL|NULL|NULL|NULL|NULL|NULL|NULL|NULL|NULL|NULL|NULL|NULL|NULL|            54.422|      18.6|        2.581|        1.337|      1803.987|           NULL|              597.029|               9.59|          NULL|        NULL|                37.746|                       0.5|          64.83|                  0.511|\n",
            "|     AFG|     Asia|Afghanistan|06-03-2020|  38928341|          4|        0|             0.429|        NULL|      NULL|                0.0|                  0.103|                  0.0|                         0.011|                    NULL|                  NULL|                            0.0|             NULL|        NULL|                    NULL|         NULL|                     NULL|                 NULL|                             NULL|                  NULL|                              NULL|NULL|NULL|NULL|NULL|NULL|NULL|NULL|NULL|NULL|NULL|NULL|NULL|NULL|NULL|NULL|NULL|NULL|NULL|NULL|NULL|            54.422|      18.6|        2.581|        1.337|      1803.987|           NULL|              597.029|               9.59|          NULL|        NULL|                37.746|                       0.5|          64.83|                  0.511|\n",
            "|     AFG|     Asia|Afghanistan|07-03-2020|  38928341|          4|        0|             0.429|        NULL|      NULL|                0.0|                  0.103|                  0.0|                         0.011|                    NULL|                  NULL|                            0.0|             NULL|        NULL|                    NULL|         NULL|                     NULL|                 NULL|                             NULL|                  NULL|                              NULL|NULL|NULL|NULL|NULL|NULL|NULL|NULL|NULL|NULL|NULL|NULL|NULL|NULL|NULL|NULL|NULL|NULL|NULL|NULL|NULL|            54.422|      18.6|        2.581|        1.337|      1803.987|           NULL|              597.029|               9.59|          NULL|        NULL|                37.746|                       0.5|          64.83|                  0.511|\n",
            "|     AFG|     Asia|Afghanistan|08-03-2020|  38928341|          5|        1|             0.571|        NULL|      NULL|                0.0|                  0.128|                0.026|                         0.015|                    NULL|                  NULL|                            0.0|             NULL|        NULL|                    NULL|         NULL|                     NULL|                 NULL|                             NULL|                  NULL|                              NULL|NULL|NULL|NULL|NULL|NULL|NULL|NULL|NULL|NULL|NULL|NULL|NULL|NULL|NULL|NULL|NULL|NULL|NULL|NULL|NULL|            54.422|      18.6|        2.581|        1.337|      1803.987|           NULL|              597.029|               9.59|          NULL|        NULL|                37.746|                       0.5|          64.83|                  0.511|\n",
            "|     AFG|     Asia|Afghanistan|09-03-2020|  38928341|          7|        2|             0.857|        NULL|      NULL|                0.0|                   0.18|                0.051|                         0.022|                    NULL|                  NULL|                            0.0|             NULL|        NULL|                    NULL|         NULL|                     NULL|                 NULL|                             NULL|                  NULL|                              NULL|NULL|NULL|NULL|NULL|NULL|NULL|NULL|NULL|NULL|NULL|NULL|NULL|NULL|NULL|NULL|NULL|NULL|NULL|NULL|NULL|            54.422|      18.6|        2.581|        1.337|      1803.987|           NULL|              597.029|               9.59|          NULL|        NULL|                37.746|                       0.5|          64.83|                  0.511|\n",
            "|     AFG|     Asia|Afghanistan|10-03-2020|  38928341|          8|        1|             0.857|        NULL|      NULL|                0.0|                  0.206|                0.026|                         0.022|                    NULL|                  NULL|                            0.0|             NULL|        NULL|                    NULL|         NULL|                     NULL|                 NULL|                             NULL|                  NULL|                              NULL|NULL|NULL|NULL|NULL|NULL|NULL|NULL|NULL|NULL|NULL|NULL|NULL|NULL|NULL|NULL|NULL|NULL|NULL|NULL|NULL|            54.422|      18.6|        2.581|        1.337|      1803.987|           NULL|              597.029|               9.59|          NULL|        NULL|                37.746|                       0.5|          64.83|                  0.511|\n",
            "|     AFG|     Asia|Afghanistan|11-03-2020|  38928341|         11|        3|               1.0|        NULL|      NULL|                0.0|                  0.283|                0.077|                         0.026|                    NULL|                  NULL|                            0.0|             NULL|        NULL|                    NULL|         NULL|                     NULL|                 NULL|                             NULL|                  NULL|                              NULL|NULL|NULL|NULL|NULL|NULL|NULL|NULL|NULL|NULL|NULL|NULL|NULL|NULL|NULL|NULL|NULL|NULL|NULL|NULL|NULL|            54.422|      18.6|        2.581|        1.337|      1803.987|           NULL|              597.029|               9.59|          NULL|        NULL|                37.746|                       0.5|          64.83|                  0.511|\n",
            "|     AFG|     Asia|Afghanistan|12-03-2020|  38928341|         12|        1|             1.143|        NULL|      NULL|                0.0|                  0.308|                0.026|                         0.029|                    NULL|                  NULL|                            0.0|             NULL|        NULL|                    NULL|         NULL|                     NULL|                 NULL|                             NULL|                  NULL|                              NULL|NULL|NULL|NULL|NULL|NULL|NULL|NULL|NULL|NULL|NULL|NULL|NULL|NULL|NULL|NULL|NULL|NULL|NULL|NULL|NULL|            54.422|      18.6|        2.581|        1.337|      1803.987|           NULL|              597.029|               9.59|          NULL|        NULL|                37.746|                       0.5|          64.83|                  0.511|\n",
            "|     AFG|     Asia|Afghanistan|13-03-2020|  38928341|         13|        1|             1.286|        NULL|      NULL|                0.0|                  0.334|                0.026|                         0.033|                    NULL|                  NULL|                            0.0|             NULL|        NULL|                    NULL|         NULL|                     NULL|                 NULL|                             NULL|                  NULL|                              NULL|NULL|NULL|NULL|NULL|NULL|NULL|NULL|NULL|NULL|NULL|NULL|NULL|NULL|NULL|NULL|NULL|NULL|NULL|NULL|NULL|            54.422|      18.6|        2.581|        1.337|      1803.987|           NULL|              597.029|               9.59|          NULL|        NULL|                37.746|                       0.5|          64.83|                  0.511|\n",
            "|     AFG|     Asia|Afghanistan|14-03-2020|  38928341|         15|        2|             1.571|        NULL|      NULL|                0.0|                  0.385|                0.051|                          0.04|                    NULL|                  NULL|                            0.0|             NULL|        NULL|                    NULL|         NULL|                     NULL|                 NULL|                             NULL|                  NULL|                              NULL|NULL|NULL|NULL|NULL|NULL|NULL|NULL|NULL|NULL|NULL|NULL|NULL|NULL|NULL|NULL|NULL|NULL|NULL|NULL|NULL|            54.422|      18.6|        2.581|        1.337|      1803.987|           NULL|              597.029|               9.59|          NULL|        NULL|                37.746|                       0.5|          64.83|                  0.511|\n",
            "+--------+---------+-----------+----------+----------+-----------+---------+------------------+------------+----------+-------------------+-----------------------+---------------------+------------------------------+------------------------+----------------------+-------------------------------+-----------------+------------+------------------------+-------------+-------------------------+---------------------+---------------------------------+----------------------+----------------------------------+----+----+----+----+----+----+----+----+----+----+----+----+----+----+----+----+----+----+----+----+------------------+----------+-------------+-------------+--------------+---------------+---------------------+-------------------+--------------+------------+----------------------+--------------------------+---------------+-----------------------+\n",
            "only showing top 20 rows\n",
            "\n"
          ]
        }
      ]
    },
    {
      "cell_type": "code",
      "source": [
        "spark.conf.set(\"spark.sql.repl.eagerEval.enabled\", True)  # Enable eager evaluation\n",
        "spark.conf.set(\"spark.sql.repl.eagerEval.maxNumRows\", 100)  # Set maximum number of rows to display\n",
        "spark.conf.set(\"spark.sql.repl.eagerEval.truncate\", 100)  # Set maximum column width"
      ],
      "metadata": {
        "id": "AahX0xSxF_Bt"
      },
      "execution_count": 7,
      "outputs": []
    },
    {
      "cell_type": "code",
      "source": [
        "Data1 = spark.read.csv(\"/content/drive/MyDrive/CovidVaccinations.csv\",header = True, inferSchema = True)\n",
        "Data1.createOrReplaceTempView('Data1')\n",
        "spark.sql(\"SELECT * FROM DATA1\").show()"
      ],
      "metadata": {
        "id": "uCmZ32LxLITQ",
        "colab": {
          "base_uri": "https://localhost:8080/"
        },
        "outputId": "0b1c4b1d-a220-4c90-c41b-05117f7b4b02"
      },
      "execution_count": 8,
      "outputs": [
        {
          "output_type": "stream",
          "name": "stdout",
          "text": [
            "+--------+---------+-----------+----------+---------+-----------+------------------------+----------------------+------------------+-------------------------------+-------------+--------------+-----------+------------------+-----------------+-----------------------+----------------+-------------------------+------------------------------+-----------------------------+-----------------------------------+-------------------------------------+----------------+----------+------------------+----------+-------------+-------------+--------------+---------------+---------------------+-------------------+--------------+------------+----------------------+--------------------------+---------------+-----------------------+\n",
            "|iso_code|continent|   location|      date|new_tests|total_tests|total_tests_per_thousand|new_tests_per_thousand|new_tests_smoothed|new_tests_smoothed_per_thousand|positive_rate|tests_per_case|tests_units|total_vaccinations|people_vaccinated|people_fully_vaccinated|new_vaccinations|new_vaccinations_smoothed|total_vaccinations_per_hundred|people_vaccinated_per_hundred|people_fully_vaccinated_per_hundred|new_vaccinations_smoothed_per_million|stringency_index|population|population_density|median_age|aged_65_older|aged_70_older|gdp_per_capita|extreme_poverty|cardiovasc_death_rate|diabetes_prevalence|female_smokers|male_smokers|handwashing_facilities|hospital_beds_per_thousand|life_expectancy|human_development_index|\n",
            "+--------+---------+-----------+----------+---------+-----------+------------------------+----------------------+------------------+-------------------------------+-------------+--------------+-----------+------------------+-----------------+-----------------------+----------------+-------------------------+------------------------------+-----------------------------+-----------------------------------+-------------------------------------+----------------+----------+------------------+----------+-------------+-------------+--------------+---------------+---------------------+-------------------+--------------+------------+----------------------+--------------------------+---------------+-----------------------+\n",
            "|     AFG|     Asia|Afghanistan|24-02-2020|     NULL|       NULL|                    NULL|                  NULL|              NULL|                           NULL|         NULL|          NULL|       NULL|              NULL|             NULL|                   NULL|            NULL|                     NULL|                          NULL|                         NULL|                               NULL|                                 NULL|            8.33|  38928341|            54.422|      18.6|        2.581|        1.337|      1803.987|           NULL|              597.029|               9.59|          NULL|        NULL|                37.746|                       0.5|          64.83|                  0.511|\n",
            "|     AFG|     Asia|Afghanistan|25-02-2020|     NULL|       NULL|                    NULL|                  NULL|              NULL|                           NULL|         NULL|          NULL|       NULL|              NULL|             NULL|                   NULL|            NULL|                     NULL|                          NULL|                         NULL|                               NULL|                                 NULL|            8.33|  38928341|            54.422|      18.6|        2.581|        1.337|      1803.987|           NULL|              597.029|               9.59|          NULL|        NULL|                37.746|                       0.5|          64.83|                  0.511|\n",
            "|     AFG|     Asia|Afghanistan|26-02-2020|     NULL|       NULL|                    NULL|                  NULL|              NULL|                           NULL|         NULL|          NULL|       NULL|              NULL|             NULL|                   NULL|            NULL|                     NULL|                          NULL|                         NULL|                               NULL|                                 NULL|            8.33|  38928341|            54.422|      18.6|        2.581|        1.337|      1803.987|           NULL|              597.029|               9.59|          NULL|        NULL|                37.746|                       0.5|          64.83|                  0.511|\n",
            "|     AFG|     Asia|Afghanistan|27-02-2020|     NULL|       NULL|                    NULL|                  NULL|              NULL|                           NULL|         NULL|          NULL|       NULL|              NULL|             NULL|                   NULL|            NULL|                     NULL|                          NULL|                         NULL|                               NULL|                                 NULL|            8.33|  38928341|            54.422|      18.6|        2.581|        1.337|      1803.987|           NULL|              597.029|               9.59|          NULL|        NULL|                37.746|                       0.5|          64.83|                  0.511|\n",
            "|     AFG|     Asia|Afghanistan|28-02-2020|     NULL|       NULL|                    NULL|                  NULL|              NULL|                           NULL|         NULL|          NULL|       NULL|              NULL|             NULL|                   NULL|            NULL|                     NULL|                          NULL|                         NULL|                               NULL|                                 NULL|            8.33|  38928341|            54.422|      18.6|        2.581|        1.337|      1803.987|           NULL|              597.029|               9.59|          NULL|        NULL|                37.746|                       0.5|          64.83|                  0.511|\n",
            "|     AFG|     Asia|Afghanistan|29-02-2020|     NULL|       NULL|                    NULL|                  NULL|              NULL|                           NULL|         NULL|          NULL|       NULL|              NULL|             NULL|                   NULL|            NULL|                     NULL|                          NULL|                         NULL|                               NULL|                                 NULL|            8.33|  38928341|            54.422|      18.6|        2.581|        1.337|      1803.987|           NULL|              597.029|               9.59|          NULL|        NULL|                37.746|                       0.5|          64.83|                  0.511|\n",
            "|     AFG|     Asia|Afghanistan|01-03-2020|     NULL|       NULL|                    NULL|                  NULL|              NULL|                           NULL|         NULL|          NULL|       NULL|              NULL|             NULL|                   NULL|            NULL|                     NULL|                          NULL|                         NULL|                               NULL|                                 NULL|           27.78|  38928341|            54.422|      18.6|        2.581|        1.337|      1803.987|           NULL|              597.029|               9.59|          NULL|        NULL|                37.746|                       0.5|          64.83|                  0.511|\n",
            "|     AFG|     Asia|Afghanistan|02-03-2020|     NULL|       NULL|                    NULL|                  NULL|              NULL|                           NULL|         NULL|          NULL|       NULL|              NULL|             NULL|                   NULL|            NULL|                     NULL|                          NULL|                         NULL|                               NULL|                                 NULL|           27.78|  38928341|            54.422|      18.6|        2.581|        1.337|      1803.987|           NULL|              597.029|               9.59|          NULL|        NULL|                37.746|                       0.5|          64.83|                  0.511|\n",
            "|     AFG|     Asia|Afghanistan|03-03-2020|     NULL|       NULL|                    NULL|                  NULL|              NULL|                           NULL|         NULL|          NULL|       NULL|              NULL|             NULL|                   NULL|            NULL|                     NULL|                          NULL|                         NULL|                               NULL|                                 NULL|           27.78|  38928341|            54.422|      18.6|        2.581|        1.337|      1803.987|           NULL|              597.029|               9.59|          NULL|        NULL|                37.746|                       0.5|          64.83|                  0.511|\n",
            "|     AFG|     Asia|Afghanistan|04-03-2020|     NULL|       NULL|                    NULL|                  NULL|              NULL|                           NULL|         NULL|          NULL|       NULL|              NULL|             NULL|                   NULL|            NULL|                     NULL|                          NULL|                         NULL|                               NULL|                                 NULL|           27.78|  38928341|            54.422|      18.6|        2.581|        1.337|      1803.987|           NULL|              597.029|               9.59|          NULL|        NULL|                37.746|                       0.5|          64.83|                  0.511|\n",
            "|     AFG|     Asia|Afghanistan|05-03-2020|     NULL|       NULL|                    NULL|                  NULL|              NULL|                           NULL|         NULL|          NULL|       NULL|              NULL|             NULL|                   NULL|            NULL|                     NULL|                          NULL|                         NULL|                               NULL|                                 NULL|           27.78|  38928341|            54.422|      18.6|        2.581|        1.337|      1803.987|           NULL|              597.029|               9.59|          NULL|        NULL|                37.746|                       0.5|          64.83|                  0.511|\n",
            "|     AFG|     Asia|Afghanistan|06-03-2020|     NULL|       NULL|                    NULL|                  NULL|              NULL|                           NULL|         NULL|          NULL|       NULL|              NULL|             NULL|                   NULL|            NULL|                     NULL|                          NULL|                         NULL|                               NULL|                                 NULL|           27.78|  38928341|            54.422|      18.6|        2.581|        1.337|      1803.987|           NULL|              597.029|               9.59|          NULL|        NULL|                37.746|                       0.5|          64.83|                  0.511|\n",
            "|     AFG|     Asia|Afghanistan|07-03-2020|     NULL|       NULL|                    NULL|                  NULL|              NULL|                           NULL|         NULL|          NULL|       NULL|              NULL|             NULL|                   NULL|            NULL|                     NULL|                          NULL|                         NULL|                               NULL|                                 NULL|           27.78|  38928341|            54.422|      18.6|        2.581|        1.337|      1803.987|           NULL|              597.029|               9.59|          NULL|        NULL|                37.746|                       0.5|          64.83|                  0.511|\n",
            "|     AFG|     Asia|Afghanistan|08-03-2020|     NULL|       NULL|                    NULL|                  NULL|              NULL|                           NULL|         NULL|          NULL|       NULL|              NULL|             NULL|                   NULL|            NULL|                     NULL|                          NULL|                         NULL|                               NULL|                                 NULL|           27.78|  38928341|            54.422|      18.6|        2.581|        1.337|      1803.987|           NULL|              597.029|               9.59|          NULL|        NULL|                37.746|                       0.5|          64.83|                  0.511|\n",
            "|     AFG|     Asia|Afghanistan|09-03-2020|     NULL|       NULL|                    NULL|                  NULL|              NULL|                           NULL|         NULL|          NULL|       NULL|              NULL|             NULL|                   NULL|            NULL|                     NULL|                          NULL|                         NULL|                               NULL|                                 NULL|           27.78|  38928341|            54.422|      18.6|        2.581|        1.337|      1803.987|           NULL|              597.029|               9.59|          NULL|        NULL|                37.746|                       0.5|          64.83|                  0.511|\n",
            "|     AFG|     Asia|Afghanistan|10-03-2020|     NULL|       NULL|                    NULL|                  NULL|              NULL|                           NULL|         NULL|          NULL|       NULL|              NULL|             NULL|                   NULL|            NULL|                     NULL|                          NULL|                         NULL|                               NULL|                                 NULL|           27.78|  38928341|            54.422|      18.6|        2.581|        1.337|      1803.987|           NULL|              597.029|               9.59|          NULL|        NULL|                37.746|                       0.5|          64.83|                  0.511|\n",
            "|     AFG|     Asia|Afghanistan|11-03-2020|     NULL|       NULL|                    NULL|                  NULL|              NULL|                           NULL|         NULL|          NULL|       NULL|              NULL|             NULL|                   NULL|            NULL|                     NULL|                          NULL|                         NULL|                               NULL|                                 NULL|           27.78|  38928341|            54.422|      18.6|        2.581|        1.337|      1803.987|           NULL|              597.029|               9.59|          NULL|        NULL|                37.746|                       0.5|          64.83|                  0.511|\n",
            "|     AFG|     Asia|Afghanistan|12-03-2020|     NULL|       NULL|                    NULL|                  NULL|              NULL|                           NULL|         NULL|          NULL|       NULL|              NULL|             NULL|                   NULL|            NULL|                     NULL|                          NULL|                         NULL|                               NULL|                                 NULL|           27.78|  38928341|            54.422|      18.6|        2.581|        1.337|      1803.987|           NULL|              597.029|               9.59|          NULL|        NULL|                37.746|                       0.5|          64.83|                  0.511|\n",
            "|     AFG|     Asia|Afghanistan|13-03-2020|     NULL|       NULL|                    NULL|                  NULL|              NULL|                           NULL|         NULL|          NULL|       NULL|              NULL|             NULL|                   NULL|            NULL|                     NULL|                          NULL|                         NULL|                               NULL|                                 NULL|           27.78|  38928341|            54.422|      18.6|        2.581|        1.337|      1803.987|           NULL|              597.029|               9.59|          NULL|        NULL|                37.746|                       0.5|          64.83|                  0.511|\n",
            "|     AFG|     Asia|Afghanistan|14-03-2020|     NULL|       NULL|                    NULL|                  NULL|              NULL|                           NULL|         NULL|          NULL|       NULL|              NULL|             NULL|                   NULL|            NULL|                     NULL|                          NULL|                         NULL|                               NULL|                                 NULL|           38.89|  38928341|            54.422|      18.6|        2.581|        1.337|      1803.987|           NULL|              597.029|               9.59|          NULL|        NULL|                37.746|                       0.5|          64.83|                  0.511|\n",
            "+--------+---------+-----------+----------+---------+-----------+------------------------+----------------------+------------------+-------------------------------+-------------+--------------+-----------+------------------+-----------------+-----------------------+----------------+-------------------------+------------------------------+-----------------------------+-----------------------------------+-------------------------------------+----------------+----------+------------------+----------+-------------+-------------+--------------+---------------+---------------------+-------------------+--------------+------------+----------------------+--------------------------+---------------+-----------------------+\n",
            "only showing top 20 rows\n",
            "\n"
          ]
        }
      ]
    },
    {
      "cell_type": "code",
      "source": [
        "spark.sql('''SELECT Location,date,total_cases,new_cases,total_deaths,population\n",
        "             FROM DATA''').show()"
      ],
      "metadata": {
        "colab": {
          "base_uri": "https://localhost:8080/"
        },
        "id": "ZjDsOo5mCCXv",
        "outputId": "7108257c-a1ed-4b3e-9551-a3c3af9e24bc"
      },
      "execution_count": 9,
      "outputs": [
        {
          "output_type": "stream",
          "name": "stdout",
          "text": [
            "+-----------+----------+-----------+---------+------------+----------+\n",
            "|   Location|      date|total_cases|new_cases|total_deaths|population|\n",
            "+-----------+----------+-----------+---------+------------+----------+\n",
            "|Afghanistan|24-02-2020|          1|        1|        NULL|  38928341|\n",
            "|Afghanistan|25-02-2020|          1|        0|        NULL|  38928341|\n",
            "|Afghanistan|26-02-2020|          1|        0|        NULL|  38928341|\n",
            "|Afghanistan|27-02-2020|          1|        0|        NULL|  38928341|\n",
            "|Afghanistan|28-02-2020|          1|        0|        NULL|  38928341|\n",
            "|Afghanistan|29-02-2020|          1|        0|        NULL|  38928341|\n",
            "|Afghanistan|01-03-2020|          1|        0|        NULL|  38928341|\n",
            "|Afghanistan|02-03-2020|          1|        0|        NULL|  38928341|\n",
            "|Afghanistan|03-03-2020|          2|        1|        NULL|  38928341|\n",
            "|Afghanistan|04-03-2020|          4|        2|        NULL|  38928341|\n",
            "|Afghanistan|05-03-2020|          4|        0|        NULL|  38928341|\n",
            "|Afghanistan|06-03-2020|          4|        0|        NULL|  38928341|\n",
            "|Afghanistan|07-03-2020|          4|        0|        NULL|  38928341|\n",
            "|Afghanistan|08-03-2020|          5|        1|        NULL|  38928341|\n",
            "|Afghanistan|09-03-2020|          7|        2|        NULL|  38928341|\n",
            "|Afghanistan|10-03-2020|          8|        1|        NULL|  38928341|\n",
            "|Afghanistan|11-03-2020|         11|        3|        NULL|  38928341|\n",
            "|Afghanistan|12-03-2020|         12|        1|        NULL|  38928341|\n",
            "|Afghanistan|13-03-2020|         13|        1|        NULL|  38928341|\n",
            "|Afghanistan|14-03-2020|         15|        2|        NULL|  38928341|\n",
            "+-----------+----------+-----------+---------+------------+----------+\n",
            "only showing top 20 rows\n",
            "\n"
          ]
        }
      ]
    },
    {
      "cell_type": "code",
      "source": [
        "# Total Cases vs Total Deaths\n",
        "spark.sql('''SELECT Location,date,total_cases,total_deaths,round((total_deaths/total_cases)*100,2) as Death_perc\n",
        "           FROM DATA\n",
        "           WHERE location = \"United States\"''').show(n=20)"
      ],
      "metadata": {
        "colab": {
          "base_uri": "https://localhost:8080/"
        },
        "id": "n1j0gwp-CCxK",
        "outputId": "34dc540d-530a-4e74-c535-2a73a12cdc01"
      },
      "execution_count": 26,
      "outputs": [
        {
          "output_type": "stream",
          "name": "stdout",
          "text": [
            "+-------------+----------+-----------+------------+----------+\n",
            "|     Location|      date|total_cases|total_deaths|Death_perc|\n",
            "+-------------+----------+-----------+------------+----------+\n",
            "|United States|22-01-2020|          1|        NULL|      NULL|\n",
            "|United States|23-01-2020|          1|        NULL|      NULL|\n",
            "|United States|24-01-2020|          2|        NULL|      NULL|\n",
            "|United States|25-01-2020|          2|        NULL|      NULL|\n",
            "|United States|26-01-2020|          5|        NULL|      NULL|\n",
            "|United States|27-01-2020|          5|        NULL|      NULL|\n",
            "|United States|28-01-2020|          5|        NULL|      NULL|\n",
            "|United States|29-01-2020|          6|        NULL|      NULL|\n",
            "|United States|30-01-2020|          6|        NULL|      NULL|\n",
            "|United States|31-01-2020|          8|        NULL|      NULL|\n",
            "|United States|01-02-2020|          8|        NULL|      NULL|\n",
            "|United States|02-02-2020|          8|        NULL|      NULL|\n",
            "|United States|03-02-2020|         11|        NULL|      NULL|\n",
            "|United States|04-02-2020|         11|        NULL|      NULL|\n",
            "|United States|05-02-2020|         11|        NULL|      NULL|\n",
            "|United States|06-02-2020|         12|        NULL|      NULL|\n",
            "|United States|07-02-2020|         12|        NULL|      NULL|\n",
            "|United States|08-02-2020|         12|        NULL|      NULL|\n",
            "|United States|09-02-2020|         12|        NULL|      NULL|\n",
            "|United States|10-02-2020|         12|        NULL|      NULL|\n",
            "+-------------+----------+-----------+------------+----------+\n",
            "only showing top 20 rows\n",
            "\n"
          ]
        }
      ]
    },
    {
      "cell_type": "code",
      "source": [
        "# Total Cases Vs Total Population\n",
        "spark.sql('''SELECT Location,date,total_cases,Population,round((total_cases/Population)*100,2) as Case_perc\n",
        "           FROM DATA\n",
        "           WHERE location = \"India\"''').show(n=20)"
      ],
      "metadata": {
        "colab": {
          "base_uri": "https://localhost:8080/"
        },
        "id": "_HGe5y1eCDGj",
        "outputId": "d18a78f6-d91b-45a7-9e6e-c89f1ad719a2"
      },
      "execution_count": 25,
      "outputs": [
        {
          "output_type": "stream",
          "name": "stdout",
          "text": [
            "+--------+----------+-----------+----------+---------+\n",
            "|Location|      date|total_cases|Population|Case_perc|\n",
            "+--------+----------+-----------+----------+---------+\n",
            "|   India|30-01-2020|          1|1380004385|      0.0|\n",
            "|   India|31-01-2020|          1|1380004385|      0.0|\n",
            "|   India|01-02-2020|          1|1380004385|      0.0|\n",
            "|   India|02-02-2020|          2|1380004385|      0.0|\n",
            "|   India|03-02-2020|          3|1380004385|      0.0|\n",
            "|   India|04-02-2020|          3|1380004385|      0.0|\n",
            "|   India|05-02-2020|          3|1380004385|      0.0|\n",
            "|   India|06-02-2020|          3|1380004385|      0.0|\n",
            "|   India|07-02-2020|          3|1380004385|      0.0|\n",
            "|   India|08-02-2020|          3|1380004385|      0.0|\n",
            "|   India|09-02-2020|          3|1380004385|      0.0|\n",
            "|   India|10-02-2020|          3|1380004385|      0.0|\n",
            "|   India|11-02-2020|          3|1380004385|      0.0|\n",
            "|   India|12-02-2020|          3|1380004385|      0.0|\n",
            "|   India|13-02-2020|          3|1380004385|      0.0|\n",
            "|   India|14-02-2020|          3|1380004385|      0.0|\n",
            "|   India|15-02-2020|          3|1380004385|      0.0|\n",
            "|   India|16-02-2020|          3|1380004385|      0.0|\n",
            "|   India|17-02-2020|          3|1380004385|      0.0|\n",
            "|   India|18-02-2020|          3|1380004385|      0.0|\n",
            "+--------+----------+-----------+----------+---------+\n",
            "only showing top 20 rows\n",
            "\n"
          ]
        }
      ]
    },
    {
      "cell_type": "code",
      "source": [
        "# Countries With Highest Infection Rate Compared to Population\n",
        "spark.sql('''SELECT Location,Max(total_cases) AS HighestInfectionCount,round(Max((total_cases/Population)*100),2) as Perc_Pop_Infe\n",
        "           FROM DATA\n",
        "           GROUP BY Location\n",
        "           ORDER BY Perc_Pop_Infe DESC''').show(n=20)"
      ],
      "metadata": {
        "colab": {
          "base_uri": "https://localhost:8080/"
        },
        "id": "Ik61R6g_Ju2k",
        "outputId": "b1360a0a-aa0c-49c3-a941-f3777feaaca2"
      },
      "execution_count": 24,
      "outputs": [
        {
          "output_type": "stream",
          "name": "stdout",
          "text": [
            "+-------------+---------------------+-------------+\n",
            "|     Location|HighestInfectionCount|Perc_Pop_Infe|\n",
            "+-------------+---------------------+-------------+\n",
            "|      Andorra|                13232|        17.13|\n",
            "|   Montenegro|                97389|        15.51|\n",
            "|      Czechia|              1630758|        15.23|\n",
            "|   San Marino|                 5066|        14.93|\n",
            "|     Slovenia|               240292|        11.56|\n",
            "|   Luxembourg|                67205|        10.74|\n",
            "|      Bahrain|               176934|         10.4|\n",
            "|       Serbia|               689557|        10.13|\n",
            "|United States|             32346971|         9.77|\n",
            "|       Israel|               838481|         9.69|\n",
            "|       Sweden|               973604|         9.64|\n",
            "|      Estonia|               122019|          9.2|\n",
            "|    Lithuania|               247269|         9.08|\n",
            "|  Netherlands|              1522973|         8.89|\n",
            "|      Belgium|               990229|         8.54|\n",
            "|       Panama|               364576|         8.45|\n",
            "|       France|              5677835|         8.33|\n",
            "|     Portugal|               836493|          8.2|\n",
            "|      Croatia|               332183|         8.09|\n",
            "|      Hungary|               779348|         8.07|\n",
            "+-------------+---------------------+-------------+\n",
            "only showing top 20 rows\n",
            "\n"
          ]
        }
      ]
    },
    {
      "cell_type": "code",
      "source": [
        "# Countries with highest death count vs population\n",
        "spark.sql('''SELECT Location,Max(cast(total_deaths as int)) AS TotalDeathCount\n",
        "           FROM DATA\n",
        "           WHERE 'continent'  is not null\n",
        "           GROUP BY Location\n",
        "           Order By TotalDeathCount DESC''').show(n=20)"
      ],
      "metadata": {
        "colab": {
          "base_uri": "https://localhost:8080/"
        },
        "id": "60Hly-lHMRW7",
        "outputId": "6d5efb0f-1a18-44c6-fdaa-2663b37a1a63"
      },
      "execution_count": 23,
      "outputs": [
        {
          "output_type": "stream",
          "name": "stdout",
          "text": [
            "+--------------+---------------+\n",
            "|      Location|TotalDeathCount|\n",
            "+--------------+---------------+\n",
            "|         World|        3180238|\n",
            "|        Europe|        1016750|\n",
            "| North America|         847942|\n",
            "|European Union|         688896|\n",
            "| South America|         672415|\n",
            "| United States|         576232|\n",
            "|          Asia|         520286|\n",
            "|        Brazil|         403781|\n",
            "|        Mexico|         216907|\n",
            "|         India|         211853|\n",
            "|United Kingdom|         127775|\n",
            "|        Africa|         121784|\n",
            "|         Italy|         120807|\n",
            "|        Russia|         108290|\n",
            "|        France|         104675|\n",
            "|       Germany|          83097|\n",
            "|         Spain|          78216|\n",
            "|      Colombia|          73720|\n",
            "|          Iran|          71758|\n",
            "|        Poland|          67502|\n",
            "+--------------+---------------+\n",
            "only showing top 20 rows\n",
            "\n"
          ]
        }
      ]
    },
    {
      "cell_type": "code",
      "source": [
        "# Showing Continents with highest death count\n",
        "spark.sql('''SELECT continent,Max(cast(total_deaths as int)) AS TotalDeathCount\n",
        "           FROM DATA\n",
        "           WHERE 'continent'  is not null\n",
        "           GROUP BY continent\n",
        "           Order By TotalDeathCount DESC''').show(n=50)"
      ],
      "metadata": {
        "colab": {
          "base_uri": "https://localhost:8080/"
        },
        "id": "_CsDGrGIYQHL",
        "outputId": "0d68a8c0-7777-4a8a-e8f3-baba5cbf68dc"
      },
      "execution_count": 14,
      "outputs": [
        {
          "output_type": "stream",
          "name": "stdout",
          "text": [
            "+-------------+---------------+\n",
            "|    continent|TotalDeathCount|\n",
            "+-------------+---------------+\n",
            "|         NULL|        3180238|\n",
            "|North America|         576232|\n",
            "|South America|         403781|\n",
            "|         Asia|         211853|\n",
            "|       Europe|         127775|\n",
            "|       Africa|          54350|\n",
            "|      Oceania|            910|\n",
            "+-------------+---------------+\n",
            "\n"
          ]
        }
      ]
    },
    {
      "cell_type": "code",
      "source": [
        "# Looking Globally\n",
        "spark.sql('''SELECT SUM(new_cases) as total_Cases,SUM(CAST(new_deaths as int)) as total_deaths, ROUND(SUM(CAST(new_deaths as int))/SUM(new_cases) *100,2) AS Deathperc\n",
        "             FROM DATA\n",
        "             WHERE continent is not null\n",
        "             ORDER BY 1,2''')"
      ],
      "metadata": {
        "colab": {
          "base_uri": "https://localhost:8080/",
          "height": 68
        },
        "id": "rGrKDw2zd80n",
        "outputId": "e5852607-b539-4e4a-a650-a410f7f5c436"
      },
      "execution_count": 15,
      "outputs": [
        {
          "output_type": "execute_result",
          "data": {
            "text/plain": [
              "+-----------+------------+---------+\n",
              "|total_Cases|total_deaths|Deathperc|\n",
              "+-----------+------------+---------+\n",
              "|  150574977|     3180206|     2.11|\n",
              "+-----------+------------+---------+"
            ],
            "text/html": [
              "<table border='1'>\n",
              "<tr><th>total_Cases</th><th>total_deaths</th><th>Deathperc</th></tr>\n",
              "<tr><td>150574977</td><td>3180206</td><td>2.11</td></tr>\n",
              "</table>\n"
            ]
          },
          "metadata": {},
          "execution_count": 15
        }
      ]
    },
    {
      "cell_type": "code",
      "source": [
        "# Total Population vs Vaccinations\n",
        "spark.sql('''SELECT Data.continent, DATA.Location, DATA.date,DATA.Population, DATA1.new_vaccinations,\n",
        "            SUM(CAST(DATA1.new_vaccinations as int)) OVER (Partition BY DATA.Location Order By DATA.Location,\n",
        "            DATA.Date) AS RollingPeopleVaccinated\n",
        "             FROM DATA\n",
        "             JOIN DATA1\n",
        "                 ON DATA.Location = DATA1.Location\n",
        "                 and DATA.date = DATA1.date\n",
        "             WHERE DATA.continent is not null\n",
        "             ORDER BY 2,3''').show(n=20)"
      ],
      "metadata": {
        "colab": {
          "base_uri": "https://localhost:8080/"
        },
        "id": "iNIv2vrHe3-N",
        "outputId": "254f5d66-54bc-4eef-897a-58d75e2dd45a"
      },
      "execution_count": 16,
      "outputs": [
        {
          "output_type": "stream",
          "name": "stdout",
          "text": [
            "+---------+-----------+----------+----------+----------------+-----------------------+\n",
            "|continent|   Location|      date|Population|new_vaccinations|RollingPeopleVaccinated|\n",
            "+---------+-----------+----------+----------+----------------+-----------------------+\n",
            "|     Asia|Afghanistan|01-01-2021|  38928341|            NULL|                   NULL|\n",
            "|     Asia|Afghanistan|01-02-2021|  38928341|            NULL|                   NULL|\n",
            "|     Asia|Afghanistan|01-03-2020|  38928341|            NULL|                   NULL|\n",
            "|     Asia|Afghanistan|01-03-2021|  38928341|            NULL|                   NULL|\n",
            "|     Asia|Afghanistan|01-04-2020|  38928341|            NULL|                   NULL|\n",
            "|     Asia|Afghanistan|01-04-2021|  38928341|            NULL|                   NULL|\n",
            "|     Asia|Afghanistan|01-05-2020|  38928341|            NULL|                   NULL|\n",
            "|     Asia|Afghanistan|01-06-2020|  38928341|            NULL|                   NULL|\n",
            "|     Asia|Afghanistan|01-07-2020|  38928341|            NULL|                   NULL|\n",
            "|     Asia|Afghanistan|01-08-2020|  38928341|            NULL|                   NULL|\n",
            "|     Asia|Afghanistan|01-09-2020|  38928341|            NULL|                   NULL|\n",
            "|     Asia|Afghanistan|01-10-2020|  38928341|            NULL|                   NULL|\n",
            "|     Asia|Afghanistan|01-11-2020|  38928341|            NULL|                   NULL|\n",
            "|     Asia|Afghanistan|01-12-2020|  38928341|            NULL|                   NULL|\n",
            "|     Asia|Afghanistan|02-01-2021|  38928341|            NULL|                   NULL|\n",
            "|     Asia|Afghanistan|02-02-2021|  38928341|            NULL|                   NULL|\n",
            "|     Asia|Afghanistan|02-03-2020|  38928341|            NULL|                   NULL|\n",
            "|     Asia|Afghanistan|02-03-2021|  38928341|            NULL|                   NULL|\n",
            "|     Asia|Afghanistan|02-04-2020|  38928341|            NULL|                   NULL|\n",
            "|     Asia|Afghanistan|02-04-2021|  38928341|            NULL|                   NULL|\n",
            "+---------+-----------+----------+----------+----------------+-----------------------+\n",
            "only showing top 20 rows\n",
            "\n"
          ]
        }
      ]
    },
    {
      "cell_type": "code",
      "source": [
        "spark.sql('''(With PopvsVac (Continent,Location,Date,Population,New_Vaccinations,RollingPeopleVaccinated) AS\n",
        "\n",
        "          (SELECT Data.continent, DATA.Location, DATA.date,DATA.Population, DATA1.new_vaccinations,\n",
        "              SUM(CAST(DATA1.new_vaccinations as int)) OVER (Partition BY DATA.Location Order By DATA.Location,\n",
        "              DATA.Date) AS RollingPeopleVaccinated\n",
        "              FROM DATA\n",
        "              JOIN DATA1\n",
        "                 ON DATA.Location = DATA1.Location\n",
        "                 and DATA.date = DATA1.date\n",
        "              WHERE DATA.continent is not null)\n",
        "\n",
        "           SELECT *,Round((RollingPeopleVaccinated/Population)*100,2) AS RollingPeopleVaccinatedPopulation_PERC\n",
        "           FROM PopvsVac)''').show(n=20)"
      ],
      "metadata": {
        "colab": {
          "base_uri": "https://localhost:8080/"
        },
        "id": "irxHjGQZJ245",
        "outputId": "a67bb971-a72f-4992-85db-1071779818c0"
      },
      "execution_count": 22,
      "outputs": [
        {
          "output_type": "stream",
          "name": "stdout",
          "text": [
            "+---------+-----------+----------+----------+----------------+-----------------------+--------------------------------------+\n",
            "|Continent|   Location|      Date|Population|New_Vaccinations|RollingPeopleVaccinated|RollingPeopleVaccinatedPopulation_PERC|\n",
            "+---------+-----------+----------+----------+----------------+-----------------------+--------------------------------------+\n",
            "|     Asia|Afghanistan|01-01-2021|  38928341|            NULL|                   NULL|                                  NULL|\n",
            "|     Asia|Afghanistan|01-02-2021|  38928341|            NULL|                   NULL|                                  NULL|\n",
            "|     Asia|Afghanistan|01-03-2020|  38928341|            NULL|                   NULL|                                  NULL|\n",
            "|     Asia|Afghanistan|01-03-2021|  38928341|            NULL|                   NULL|                                  NULL|\n",
            "|     Asia|Afghanistan|01-04-2020|  38928341|            NULL|                   NULL|                                  NULL|\n",
            "|     Asia|Afghanistan|01-04-2021|  38928341|            NULL|                   NULL|                                  NULL|\n",
            "|     Asia|Afghanistan|01-05-2020|  38928341|            NULL|                   NULL|                                  NULL|\n",
            "|     Asia|Afghanistan|01-06-2020|  38928341|            NULL|                   NULL|                                  NULL|\n",
            "|     Asia|Afghanistan|01-07-2020|  38928341|            NULL|                   NULL|                                  NULL|\n",
            "|     Asia|Afghanistan|01-08-2020|  38928341|            NULL|                   NULL|                                  NULL|\n",
            "|     Asia|Afghanistan|01-09-2020|  38928341|            NULL|                   NULL|                                  NULL|\n",
            "|     Asia|Afghanistan|01-10-2020|  38928341|            NULL|                   NULL|                                  NULL|\n",
            "|     Asia|Afghanistan|01-11-2020|  38928341|            NULL|                   NULL|                                  NULL|\n",
            "|     Asia|Afghanistan|01-12-2020|  38928341|            NULL|                   NULL|                                  NULL|\n",
            "|     Asia|Afghanistan|02-01-2021|  38928341|            NULL|                   NULL|                                  NULL|\n",
            "|     Asia|Afghanistan|02-02-2021|  38928341|            NULL|                   NULL|                                  NULL|\n",
            "|     Asia|Afghanistan|02-03-2020|  38928341|            NULL|                   NULL|                                  NULL|\n",
            "|     Asia|Afghanistan|02-03-2021|  38928341|            NULL|                   NULL|                                  NULL|\n",
            "|     Asia|Afghanistan|02-04-2020|  38928341|            NULL|                   NULL|                                  NULL|\n",
            "|     Asia|Afghanistan|02-04-2021|  38928341|            NULL|                   NULL|                                  NULL|\n",
            "+---------+-----------+----------+----------+----------------+-----------------------+--------------------------------------+\n",
            "only showing top 20 rows\n",
            "\n"
          ]
        }
      ]
    },
    {
      "cell_type": "code",
      "source": [
        "# Create the table\n",
        "spark.sql('''\n",
        "CREATE TABLE PercentPopulationVaccinated (\n",
        "    Continent varchar(255),\n",
        "    Location varchar(255),\n",
        "    Date DATE,\n",
        "    Population numeric,\n",
        "    New_vaccinations numeric,\n",
        "    RollingPeopleVaccinated numeric\n",
        ");\n",
        "''')\n",
        "\n",
        "# Insert data into the table\n",
        "spark.sql('''\n",
        "INSERT INTO PercentPopulationVaccinated\n",
        "SELECT\n",
        "    DATA.continent,\n",
        "    DATA.Location,\n",
        "    DATA.date,\n",
        "    DATA.Population,\n",
        "    DATA1.new_vaccinations,\n",
        "    SUM(CAST(DATA1.new_vaccinations as int)) OVER (PARTITION BY DATA.Location ORDER BY DATA.Location, DATA.Date) AS RollingPeopleVaccinated\n",
        "FROM\n",
        "    DATA\n",
        "JOIN\n",
        "    DATA1 ON DATA.Location = DATA1.Location AND DATA.date = DATA1.date;\n",
        "''')"
      ],
      "metadata": {
        "id": "ekO4sEhveQlY"
      },
      "execution_count": 20,
      "outputs": []
    },
    {
      "cell_type": "code",
      "source": [
        "# Create View To store data for later use\n",
        "spark.sql('''( Create View PercentPopulationVaccinated as\n",
        "           SELECT\n",
        "           Data.continent,\n",
        "           DATA.Location,\n",
        "           DATA.date,\n",
        "           DATA.Population,\n",
        "           DATA1.new_vaccinations,\n",
        "           SUM(CAST(DATA1.new_vaccinations as int)) OVER (Partition BY DATA.Location Order By DATA.Location,DATA.Date) AS RollingPeopleVaccinated\n",
        "           FROM DATA\n",
        "           JOIN DATA1\n",
        "                 ON DATA.Location = DATA1.Location\n",
        "                 and DATA.date = DATA1.date\n",
        "           WHERE DATA.continent is not null)\n",
        "           ''')"
      ],
      "metadata": {
        "id": "9pPQYdFIM6Xt"
      },
      "execution_count": 21,
      "outputs": []
    },
    {
      "cell_type": "code",
      "source": [],
      "metadata": {
        "id": "OYTiuCW_H5i_"
      },
      "execution_count": null,
      "outputs": []
    }
  ]
}